{
 "cells": [
  {
   "cell_type": "code",
   "execution_count": 1,
   "metadata": {},
   "outputs": [],
   "source": [
    "import pyspark"
   ]
  },
  {
   "cell_type": "code",
   "execution_count": 2,
   "metadata": {},
   "outputs": [],
   "source": [
    "import pyspark.sql.functions as func\n",
    "from pyspark.sql import SparkSession\n"
   ]
  },
  {
   "cell_type": "code",
   "execution_count": 3,
   "metadata": {},
   "outputs": [],
   "source": [
    "\n",
    "import findspark\n",
    "findspark.init()\n",
    "\n",
    "\n",
    "from pyspark.sql import SparkSession\n",
    "spark = SparkSession.builder.master(\"local[1]\").appName(\"SparkByExample\").getOrCreate()\n"
   ]
  },
  {
   "cell_type": "code",
   "execution_count": 4,
   "metadata": {},
   "outputs": [],
   "source": [
    "orig_df = spark.read.csv(\"./PS_20174392719_1491204439457_log.csv\", inferSchema = True, header = True)"
   ]
  },
  {
   "cell_type": "code",
   "execution_count": 5,
   "metadata": {},
   "outputs": [
    {
     "name": "stdout",
     "output_type": "stream",
     "text": [
      "root\n",
      " |-- step: integer (nullable = true)\n",
      " |-- type: string (nullable = true)\n",
      " |-- amount: double (nullable = true)\n",
      " |-- nameOrig: string (nullable = true)\n",
      " |-- oldbalanceOrg: double (nullable = true)\n",
      " |-- newbalanceOrig: double (nullable = true)\n",
      " |-- nameDest: string (nullable = true)\n",
      " |-- oldbalanceDest: double (nullable = true)\n",
      " |-- newbalanceDest: double (nullable = true)\n",
      " |-- isFraud: integer (nullable = true)\n",
      " |-- isFlaggedFraud: integer (nullable = true)\n",
      "\n"
     ]
    }
   ],
   "source": [
    "orig_df.printSchema()"
   ]
  },
  {
   "cell_type": "code",
   "execution_count": 6,
   "metadata": {},
   "outputs": [
    {
     "name": "stdout",
     "output_type": "stream",
     "text": [
      "-RECORD 0---------------------\n",
      " step           | 1           \n",
      " type           | PAYMENT     \n",
      " amount         | 9839.64     \n",
      " nameOrig       | C1231006815 \n",
      " oldbalanceOrg  | 170136.0    \n",
      " newbalanceOrig | 160296.36   \n",
      " nameDest       | M1979787155 \n",
      " oldbalanceDest | 0.0         \n",
      " newbalanceDest | 0.0         \n",
      " isFraud        | 0           \n",
      " isFlaggedFraud | 0           \n",
      "-RECORD 1---------------------\n",
      " step           | 1           \n",
      " type           | PAYMENT     \n",
      " amount         | 1864.28     \n",
      " nameOrig       | C1666544295 \n",
      " oldbalanceOrg  | 21249.0     \n",
      " newbalanceOrig | 19384.72    \n",
      " nameDest       | M2044282225 \n",
      " oldbalanceDest | 0.0         \n",
      " newbalanceDest | 0.0         \n",
      " isFraud        | 0           \n",
      " isFlaggedFraud | 0           \n",
      "-RECORD 2---------------------\n",
      " step           | 1           \n",
      " type           | TRANSFER    \n",
      " amount         | 181.0       \n",
      " nameOrig       | C1305486145 \n",
      " oldbalanceOrg  | 181.0       \n",
      " newbalanceOrig | 0.0         \n",
      " nameDest       | C553264065  \n",
      " oldbalanceDest | 0.0         \n",
      " newbalanceDest | 0.0         \n",
      " isFraud        | 1           \n",
      " isFlaggedFraud | 0           \n",
      "-RECORD 3---------------------\n",
      " step           | 1           \n",
      " type           | CASH_OUT    \n",
      " amount         | 181.0       \n",
      " nameOrig       | C840083671  \n",
      " oldbalanceOrg  | 181.0       \n",
      " newbalanceOrig | 0.0         \n",
      " nameDest       | C38997010   \n",
      " oldbalanceDest | 21182.0     \n",
      " newbalanceDest | 0.0         \n",
      " isFraud        | 1           \n",
      " isFlaggedFraud | 0           \n",
      "-RECORD 4---------------------\n",
      " step           | 1           \n",
      " type           | PAYMENT     \n",
      " amount         | 11668.14    \n",
      " nameOrig       | C2048537720 \n",
      " oldbalanceOrg  | 41554.0     \n",
      " newbalanceOrig | 29885.86    \n",
      " nameDest       | M1230701703 \n",
      " oldbalanceDest | 0.0         \n",
      " newbalanceDest | 0.0         \n",
      " isFraud        | 0           \n",
      " isFlaggedFraud | 0           \n",
      "-RECORD 5---------------------\n",
      " step           | 1           \n",
      " type           | PAYMENT     \n",
      " amount         | 7817.71     \n",
      " nameOrig       | C90045638   \n",
      " oldbalanceOrg  | 53860.0     \n",
      " newbalanceOrig | 46042.29    \n",
      " nameDest       | M573487274  \n",
      " oldbalanceDest | 0.0         \n",
      " newbalanceDest | 0.0         \n",
      " isFraud        | 0           \n",
      " isFlaggedFraud | 0           \n",
      "-RECORD 6---------------------\n",
      " step           | 1           \n",
      " type           | PAYMENT     \n",
      " amount         | 7107.77     \n",
      " nameOrig       | C154988899  \n",
      " oldbalanceOrg  | 183195.0    \n",
      " newbalanceOrig | 176087.23   \n",
      " nameDest       | M408069119  \n",
      " oldbalanceDest | 0.0         \n",
      " newbalanceDest | 0.0         \n",
      " isFraud        | 0           \n",
      " isFlaggedFraud | 0           \n",
      "-RECORD 7---------------------\n",
      " step           | 1           \n",
      " type           | PAYMENT     \n",
      " amount         | 7861.64     \n",
      " nameOrig       | C1912850431 \n",
      " oldbalanceOrg  | 176087.23   \n",
      " newbalanceOrig | 168225.59   \n",
      " nameDest       | M633326333  \n",
      " oldbalanceDest | 0.0         \n",
      " newbalanceDest | 0.0         \n",
      " isFraud        | 0           \n",
      " isFlaggedFraud | 0           \n",
      "-RECORD 8---------------------\n",
      " step           | 1           \n",
      " type           | PAYMENT     \n",
      " amount         | 4024.36     \n",
      " nameOrig       | C1265012928 \n",
      " oldbalanceOrg  | 2671.0      \n",
      " newbalanceOrig | 0.0         \n",
      " nameDest       | M1176932104 \n",
      " oldbalanceDest | 0.0         \n",
      " newbalanceDest | 0.0         \n",
      " isFraud        | 0           \n",
      " isFlaggedFraud | 0           \n",
      "-RECORD 9---------------------\n",
      " step           | 1           \n",
      " type           | DEBIT       \n",
      " amount         | 5337.77     \n",
      " nameOrig       | C712410124  \n",
      " oldbalanceOrg  | 41720.0     \n",
      " newbalanceOrig | 36382.23    \n",
      " nameDest       | C195600860  \n",
      " oldbalanceDest | 41898.0     \n",
      " newbalanceDest | 40348.79    \n",
      " isFraud        | 0           \n",
      " isFlaggedFraud | 0           \n",
      "-RECORD 10--------------------\n",
      " step           | 1           \n",
      " type           | DEBIT       \n",
      " amount         | 9644.94     \n",
      " nameOrig       | C1900366749 \n",
      " oldbalanceOrg  | 4465.0      \n",
      " newbalanceOrig | 0.0         \n",
      " nameDest       | C997608398  \n",
      " oldbalanceDest | 10845.0     \n",
      " newbalanceDest | 157982.12   \n",
      " isFraud        | 0           \n",
      " isFlaggedFraud | 0           \n",
      "-RECORD 11--------------------\n",
      " step           | 1           \n",
      " type           | PAYMENT     \n",
      " amount         | 3099.97     \n",
      " nameOrig       | C249177573  \n",
      " oldbalanceOrg  | 20771.0     \n",
      " newbalanceOrig | 17671.03    \n",
      " nameDest       | M2096539129 \n",
      " oldbalanceDest | 0.0         \n",
      " newbalanceDest | 0.0         \n",
      " isFraud        | 0           \n",
      " isFlaggedFraud | 0           \n",
      "-RECORD 12--------------------\n",
      " step           | 1           \n",
      " type           | PAYMENT     \n",
      " amount         | 2560.74     \n",
      " nameOrig       | C1648232591 \n",
      " oldbalanceOrg  | 5070.0      \n",
      " newbalanceOrig | 2509.26     \n",
      " nameDest       | M972865270  \n",
      " oldbalanceDest | 0.0         \n",
      " newbalanceDest | 0.0         \n",
      " isFraud        | 0           \n",
      " isFlaggedFraud | 0           \n",
      "-RECORD 13--------------------\n",
      " step           | 1           \n",
      " type           | PAYMENT     \n",
      " amount         | 11633.76    \n",
      " nameOrig       | C1716932897 \n",
      " oldbalanceOrg  | 10127.0     \n",
      " newbalanceOrig | 0.0         \n",
      " nameDest       | M801569151  \n",
      " oldbalanceDest | 0.0         \n",
      " newbalanceDest | 0.0         \n",
      " isFraud        | 0           \n",
      " isFlaggedFraud | 0           \n",
      "-RECORD 14--------------------\n",
      " step           | 1           \n",
      " type           | PAYMENT     \n",
      " amount         | 4098.78     \n",
      " nameOrig       | C1026483832 \n",
      " oldbalanceOrg  | 503264.0    \n",
      " newbalanceOrig | 499165.22   \n",
      " nameDest       | M1635378213 \n",
      " oldbalanceDest | 0.0         \n",
      " newbalanceDest | 0.0         \n",
      " isFraud        | 0           \n",
      " isFlaggedFraud | 0           \n",
      "-RECORD 15--------------------\n",
      " step           | 1           \n",
      " type           | CASH_OUT    \n",
      " amount         | 229133.94   \n",
      " nameOrig       | C905080434  \n",
      " oldbalanceOrg  | 15325.0     \n",
      " newbalanceOrig | 0.0         \n",
      " nameDest       | C476402209  \n",
      " oldbalanceDest | 5083.0      \n",
      " newbalanceDest | 51513.44    \n",
      " isFraud        | 0           \n",
      " isFlaggedFraud | 0           \n",
      "-RECORD 16--------------------\n",
      " step           | 1           \n",
      " type           | PAYMENT     \n",
      " amount         | 1563.82     \n",
      " nameOrig       | C761750706  \n",
      " oldbalanceOrg  | 450.0       \n",
      " newbalanceOrig | 0.0         \n",
      " nameDest       | M1731217984 \n",
      " oldbalanceDest | 0.0         \n",
      " newbalanceDest | 0.0         \n",
      " isFraud        | 0           \n",
      " isFlaggedFraud | 0           \n",
      "-RECORD 17--------------------\n",
      " step           | 1           \n",
      " type           | PAYMENT     \n",
      " amount         | 1157.86     \n",
      " nameOrig       | C1237762639 \n",
      " oldbalanceOrg  | 21156.0     \n",
      " newbalanceOrig | 19998.14    \n",
      " nameDest       | M1877062907 \n",
      " oldbalanceDest | 0.0         \n",
      " newbalanceDest | 0.0         \n",
      " isFraud        | 0           \n",
      " isFlaggedFraud | 0           \n",
      "-RECORD 18--------------------\n",
      " step           | 1           \n",
      " type           | PAYMENT     \n",
      " amount         | 671.64      \n",
      " nameOrig       | C2033524545 \n",
      " oldbalanceOrg  | 15123.0     \n",
      " newbalanceOrig | 14451.36    \n",
      " nameDest       | M473053293  \n",
      " oldbalanceDest | 0.0         \n",
      " newbalanceDest | 0.0         \n",
      " isFraud        | 0           \n",
      " isFlaggedFraud | 0           \n",
      "-RECORD 19--------------------\n",
      " step           | 1           \n",
      " type           | TRANSFER    \n",
      " amount         | 215310.3    \n",
      " nameOrig       | C1670993182 \n",
      " oldbalanceOrg  | 705.0       \n",
      " newbalanceOrig | 0.0         \n",
      " nameDest       | C1100439041 \n",
      " oldbalanceDest | 22425.0     \n",
      " newbalanceDest | 0.0         \n",
      " isFraud        | 0           \n",
      " isFlaggedFraud | 0           \n",
      "only showing top 20 rows\n",
      "\n"
     ]
    }
   ],
   "source": [
    "orig_df.show(truncate = False, vertical = True)"
   ]
  },
  {
   "cell_type": "code",
   "execution_count": 7,
   "metadata": {},
   "outputs": [],
   "source": [
    "def count_type(df):\n",
    "    return df.groupBy('type').agg(func.count(func.when(func.col('isFraud') == 0, True)).alias('Not_Fraud'),\\\n",
    "                      func.count(func.when(func.col('isFraud') == 1,True)).alias('Fraud')).show()"
   ]
  },
  {
   "cell_type": "code",
   "execution_count": 8,
   "metadata": {},
   "outputs": [
    {
     "data": {
      "text/plain": [
       "False"
      ]
     },
     "execution_count": 8,
     "metadata": {},
     "output_type": "execute_result"
    }
   ],
   "source": [
    "orig_df.rdd.isEmpty()"
   ]
  },
  {
   "cell_type": "code",
   "execution_count": 9,
   "metadata": {},
   "outputs": [
    {
     "data": {
      "text/plain": [
       "True"
      ]
     },
     "execution_count": 9,
     "metadata": {},
     "output_type": "execute_result"
    }
   ],
   "source": [
    "(orig_df != 'NULL')"
   ]
  },
  {
   "cell_type": "code",
   "execution_count": 10,
   "metadata": {},
   "outputs": [
    {
     "name": "stdout",
     "output_type": "stream",
     "text": [
      "+----+----+------+--------+-------------+--------------+--------+--------------+--------------+-------+--------------+\n",
      "|step|type|amount|nameOrig|oldbalanceOrg|newbalanceOrig|nameDest|oldbalanceDest|newbalanceDest|isFraud|isFlaggedFraud|\n",
      "+----+----+------+--------+-------------+--------------+--------+--------------+--------------+-------+--------------+\n",
      "|   0|   0|     0|       0|            0|             0|       0|             0|             0|      0|             0|\n",
      "+----+----+------+--------+-------------+--------------+--------+--------------+--------------+-------+--------------+\n",
      "\n"
     ]
    }
   ],
   "source": [
    "orig_df.select([func.count(func.when(func.isnan(c),c)).alias(c) for c in orig_df.columns]).show()"
   ]
  },
  {
   "cell_type": "code",
   "execution_count": 11,
   "metadata": {},
   "outputs": [
    {
     "name": "stdout",
     "output_type": "stream",
     "text": [
      "+----+----+------+--------+-------------+--------------+--------+--------------+--------------+-------+--------------+\n",
      "|step|type|amount|nameOrig|oldbalanceOrg|newbalanceOrig|nameDest|oldbalanceDest|newbalanceDest|isFraud|isFlaggedFraud|\n",
      "+----+----+------+--------+-------------+--------------+--------+--------------+--------------+-------+--------------+\n",
      "|   0|   0|     0|       0|            0|             0|       0|             0|             0|      0|             0|\n",
      "+----+----+------+--------+-------------+--------------+--------+--------------+--------------+-------+--------------+\n",
      "\n"
     ]
    }
   ],
   "source": [
    "orig_df.select([func.count(func.when(func.col(c).isNull(),c)).alias(c) for c in orig_df.columns]).show()"
   ]
  },
  {
   "cell_type": "code",
   "execution_count": 12,
   "metadata": {},
   "outputs": [
    {
     "name": "stdout",
     "output_type": "stream",
     "text": [
      "-RECORD 0------------------------------\n",
      " summary        | count                \n",
      " step           | 6362620              \n",
      " type           | 6362620              \n",
      " amount         | 6362620              \n",
      " nameOrig       | 6362620              \n",
      " oldbalanceOrg  | 6362620              \n",
      " newbalanceOrig | 6362620              \n",
      " nameDest       | 6362620              \n",
      " oldbalanceDest | 6362620              \n",
      " newbalanceDest | 6362620              \n",
      " isFraud        | 6362620              \n",
      " isFlaggedFraud | 6362620              \n",
      "-RECORD 1------------------------------\n",
      " summary        | mean                 \n",
      " step           | 243.39724563151657   \n",
      " type           | null                 \n",
      " amount         | 179861.9035491287    \n",
      " nameOrig       | null                 \n",
      " oldbalanceOrg  | 833883.1040744764    \n",
      " newbalanceOrig | 855113.6685785812    \n",
      " nameDest       | null                 \n",
      " oldbalanceDest | 1100701.6665196533   \n",
      " newbalanceDest | 1224996.3982019224   \n",
      " isFraud        | 0.001290820448180152 \n",
      " isFlaggedFraud | 2.51468734577894E-6  \n",
      "-RECORD 2------------------------------\n",
      " summary        | stddev               \n",
      " step           | 142.33197104913066   \n",
      " type           | null                 \n",
      " amount         | 603858.2314629209    \n",
      " nameOrig       | null                 \n",
      " oldbalanceOrg  | 2888242.673037527    \n",
      " newbalanceOrig | 2924048.5029542595   \n",
      " nameDest       | null                 \n",
      " oldbalanceDest | 3399180.1129944525   \n",
      " newbalanceDest | 3674128.9421196915   \n",
      " isFraud        | 0.035904796801604424 \n",
      " isFlaggedFraud | 0.001585774705736... \n",
      "-RECORD 3------------------------------\n",
      " summary        | min                  \n",
      " step           | 1                    \n",
      " type           | CASH_IN              \n",
      " amount         | 0.0                  \n",
      " nameOrig       | C1000000639          \n",
      " oldbalanceOrg  | 0.0                  \n",
      " newbalanceOrig | 0.0                  \n",
      " nameDest       | C1000004082          \n",
      " oldbalanceDest | 0.0                  \n",
      " newbalanceDest | 0.0                  \n",
      " isFraud        | 0                    \n",
      " isFlaggedFraud | 0                    \n",
      "-RECORD 4------------------------------\n",
      " summary        | max                  \n",
      " step           | 743                  \n",
      " type           | TRANSFER             \n",
      " amount         | 9.244551664E7        \n",
      " nameOrig       | C999999784           \n",
      " oldbalanceOrg  | 5.958504037E7        \n",
      " newbalanceOrig | 4.958504037E7        \n",
      " nameDest       | M999999784           \n",
      " oldbalanceDest | 3.5601588935E8       \n",
      " newbalanceDest | 3.5617927892E8       \n",
      " isFraud        | 1                    \n",
      " isFlaggedFraud | 1                    \n",
      "\n"
     ]
    }
   ],
   "source": [
    "orig_df.describe().show(vertical = True)"
   ]
  },
  {
   "cell_type": "code",
   "execution_count": 13,
   "metadata": {},
   "outputs": [],
   "source": [
    "median_list = orig_df.approxQuantile(['step','amount','oldbalanceOrg','newbalanceOrig','oldbalanceDest','newbalanceDest'], [0.5], 0.25)\n",
    "name_list = ['step','amount','oldbalanceOrg','newbalanceOrig','oldbalanceDest','newbalanceDest']\n",
    "median_tuple = list(zip(name_list, median_list))"
   ]
  },
  {
   "cell_type": "code",
   "execution_count": 14,
   "metadata": {},
   "outputs": [
    {
     "data": {
      "text/plain": [
       "[('step', [257.0]),\n",
       " ('amount', [73199.38]),\n",
       " ('oldbalanceOrg', [14910.0]),\n",
       " ('newbalanceOrig', [866.26]),\n",
       " ('oldbalanceDest', [157086.55]),\n",
       " ('newbalanceDest', [224333.11])]"
      ]
     },
     "execution_count": 14,
     "metadata": {},
     "output_type": "execute_result"
    }
   ],
   "source": [
    "median_tuple"
   ]
  },
  {
   "cell_type": "code",
   "execution_count": 15,
   "metadata": {},
   "outputs": [
    {
     "data": {
      "text/plain": [
       "(6362620, 11)"
      ]
     },
     "execution_count": 15,
     "metadata": {},
     "output_type": "execute_result"
    }
   ],
   "source": [
    "def shape(df):\n",
    "    return df.count(), len(df.columns)\n",
    "shape(orig_df)"
   ]
  },
  {
   "cell_type": "code",
   "execution_count": 16,
   "metadata": {},
   "outputs": [],
   "source": [
    "df = orig_df"
   ]
  },
  {
   "cell_type": "code",
   "execution_count": 17,
   "metadata": {},
   "outputs": [],
   "source": [
    "def IQR(feature):\n",
    "    q1 = df.approxQuantile(feature, [0.25], 0.05)\n",
    "    q3 = df.approxQuantile(feature, [0.75], 0.05)\n",
    "    iqr = q3[0] - q1[0]\n",
    "    rang = 1.5*iqr\n",
    "    return(q1[0]-rang, q3[0] + rang)"
   ]
  },
  {
   "cell_type": "code",
   "execution_count": 18,
   "metadata": {},
   "outputs": [
    {
     "name": "stdout",
     "output_type": "stream",
     "text": [
      "+----+--------+---------+-----------+-------------+--------------+-----------+--------------+--------------+-------+--------------+\n",
      "|step|    type|   amount|   nameOrig|oldbalanceOrg|newbalanceOrig|   nameDest|oldbalanceDest|newbalanceDest|isFraud|isFlaggedFraud|\n",
      "+----+--------+---------+-----------+-------------+--------------+-----------+--------------+--------------+-------+--------------+\n",
      "|   1| PAYMENT|  1864.28|C1666544295|      21249.0|      19384.72|M2044282225|           0.0|           0.0|      0|             0|\n",
      "|   1|TRANSFER|    181.0|C1305486145|        181.0|           0.0| C553264065|           0.0|           0.0|      1|             0|\n",
      "|   1|CASH_OUT|    181.0| C840083671|        181.0|           0.0|  C38997010|       21182.0|           0.0|      1|             0|\n",
      "|   1| PAYMENT|  4024.36|C1265012928|       2671.0|           0.0|M1176932104|           0.0|           0.0|      0|             0|\n",
      "|   1|   DEBIT|  9644.94|C1900366749|       4465.0|           0.0| C997608398|       10845.0|     157982.12|      0|             0|\n",
      "|   1| PAYMENT|  3099.97| C249177573|      20771.0|      17671.03|M2096539129|           0.0|           0.0|      0|             0|\n",
      "|   1| PAYMENT|  2560.74|C1648232591|       5070.0|       2509.26| M972865270|           0.0|           0.0|      0|             0|\n",
      "|   1| PAYMENT| 11633.76|C1716932897|      10127.0|           0.0| M801569151|           0.0|           0.0|      0|             0|\n",
      "|   1|CASH_OUT|229133.94| C905080434|      15325.0|           0.0| C476402209|        5083.0|      51513.44|      0|             0|\n",
      "|   1| PAYMENT|  1563.82| C761750706|        450.0|           0.0|M1731217984|           0.0|           0.0|      0|             0|\n",
      "|   1| PAYMENT|  1157.86|C1237762639|      21156.0|      19998.14|M1877062907|           0.0|           0.0|      0|             0|\n",
      "|   1| PAYMENT|   671.64|C2033524545|      15123.0|      14451.36| M473053293|           0.0|           0.0|      0|             0|\n",
      "|   1|TRANSFER| 215310.3|C1670993182|        705.0|           0.0|C1100439041|       22425.0|           0.0|      0|             0|\n",
      "|   1| PAYMENT|  1373.43|  C20804602|      13854.0|      12480.57|M1344519051|           0.0|           0.0|      0|             0|\n",
      "|   1|   DEBIT|  9302.79|C1566511282|      11299.0|       1996.21|C1973538135|       29832.0|       16896.7|      0|             0|\n",
      "|   1|   DEBIT|  1065.41|C1959239586|       1817.0|        751.59| C515132998|       10330.0|           0.0|      0|             0|\n",
      "|   1| PAYMENT|  6061.13|C1043358826|        443.0|           0.0|M1558079303|           0.0|           0.0|      0|             0|\n",
      "|   1| PAYMENT|  8009.09|C1053967012|      10968.0|       2958.91| M295304806|           0.0|           0.0|      0|             0|\n",
      "|   1| PAYMENT|  8901.99|C1632497828|      2958.91|           0.0|  M33419717|           0.0|           0.0|      0|             0|\n",
      "|   1| PAYMENT|  9920.52| C764826684|          0.0|           0.0|M1940055334|           0.0|           0.0|      0|             0|\n",
      "+----+--------+---------+-----------+-------------+--------------+-----------+--------------+--------------+-------+--------------+\n",
      "only showing top 20 rows\n",
      "\n"
     ]
    }
   ],
   "source": [
    "li = ['step','amount','oldbalanceOrg','newbalanceOrig','oldbalanceDest','newbalanceDest']\n",
    "for i in li:\n",
    "    lower , upper = IQR(i)\n",
    "    df = df.filter((func.col(i) > lower) & (func.col(i) < upper))\n",
    "df.show()    "
   ]
  },
  {
   "cell_type": "markdown",
   "metadata": {},
   "source": []
  },
  {
   "cell_type": "code",
   "execution_count": 19,
   "metadata": {},
   "outputs": [
    {
     "data": {
      "text/plain": [
       "(2852632, 11)"
      ]
     },
     "execution_count": 19,
     "metadata": {},
     "output_type": "execute_result"
    }
   ],
   "source": [
    "shape(df)"
   ]
  },
  {
   "cell_type": "code",
   "execution_count": 20,
   "metadata": {},
   "outputs": [
    {
     "name": "stdout",
     "output_type": "stream",
     "text": [
      "+--------+---------+-----+\n",
      "|    type|Not_Fraud|Fraud|\n",
      "+--------+---------+-----+\n",
      "|TRANSFER|   137946| 1133|\n",
      "| CASH_IN|    10976|    0|\n",
      "|CASH_OUT|  1271195|  956|\n",
      "| PAYMENT|  1413759|    0|\n",
      "|   DEBIT|    16667|    0|\n",
      "+--------+---------+-----+\n",
      "\n"
     ]
    }
   ],
   "source": [
    "count_type(df)"
   ]
  },
  {
   "cell_type": "code",
   "execution_count": 21,
   "metadata": {},
   "outputs": [
    {
     "name": "stdout",
     "output_type": "stream",
     "text": [
      "+--------+---------+-----+\n",
      "|    type|Not_Fraud|Fraud|\n",
      "+--------+---------+-----+\n",
      "|TRANSFER|    68261| 1133|\n",
      "| CASH_IN|    10976|    0|\n",
      "|CASH_OUT|   718075|  934|\n",
      "| PAYMENT|   652194|    0|\n",
      "|   DEBIT|    12245|    0|\n",
      "+--------+---------+-----+\n",
      "\n"
     ]
    }
   ],
   "source": [
    "count_type(df.filter((df.oldbalanceOrg != 0.0) | (df.newbalanceOrig != 0.0)))"
   ]
  },
  {
   "cell_type": "code",
   "execution_count": 22,
   "metadata": {},
   "outputs": [],
   "source": [
    "df = df.filter((df.oldbalanceOrg != 0.0) | (df.newbalanceOrig != 0.0))"
   ]
  },
  {
   "cell_type": "code",
   "execution_count": 23,
   "metadata": {},
   "outputs": [
    {
     "name": "stdout",
     "output_type": "stream",
     "text": [
      "+----+--------+---------+-----------+-------------+--------------+-----------+--------------+--------------+-------+--------------+\n",
      "|step|    type|   amount|   nameOrig|oldbalanceOrg|newbalanceOrig|   nameDest|oldbalanceDest|newbalanceDest|isFraud|isFlaggedFraud|\n",
      "+----+--------+---------+-----------+-------------+--------------+-----------+--------------+--------------+-------+--------------+\n",
      "|   1|TRANSFER|    181.0|C1305486145|        181.0|           0.0| C553264065|           0.0|           0.0|      1|             0|\n",
      "|   1|CASH_OUT|    181.0| C840083671|        181.0|           0.0|  C38997010|       21182.0|           0.0|      1|             0|\n",
      "|   1|CASH_OUT|229133.94| C905080434|      15325.0|           0.0| C476402209|        5083.0|      51513.44|      0|             0|\n",
      "|   1|TRANSFER| 215310.3|C1670993182|        705.0|           0.0|C1100439041|       22425.0|           0.0|      0|             0|\n",
      "|   1|CASH_OUT|110414.71| C768216420|     26845.41|           0.0|C1509514333|      288800.0|       2415.16|      0|             0|\n",
      "|   1|CASH_OUT|  56953.9|C1570470538|      1942.02|           0.0| C824009085|       70253.0|      64106.18|      0|             0|\n",
      "|   1|CASH_OUT|  23261.3|C2072313080|     20411.53|           0.0|C2001112025|       25742.0|           0.0|      0|             0|\n",
      "|   1|TRANSFER|  62610.8|C1976401987|      79114.0|       16503.2|C1937962514|         517.0|       8383.29|      0|             0|\n",
      "|   1|CASH_OUT| 82940.31|C1528834618|      3017.87|           0.0| C476800120|      132372.0|      49864.36|      0|             0|\n",
      "|   1|CASH_OUT| 94253.33|C1718906711|     25203.05|           0.0| C977993101|       99773.0|     965870.05|      0|             0|\n",
      "|   1|TRANSFER| 42712.39| C283039401|     10363.39|           0.0|C1330106945|      57901.66|      24044.18|      0|             0|\n",
      "|   1|CASH_OUT|335416.51| C743778731|     144478.0|           0.0| C575335780|         295.0|      52415.15|      0|             0|\n",
      "|   1|TRANSFER|177652.91| C753631393|      23720.0|           0.0| C716157500|          55.0|       4894.45|      0|             0|\n",
      "|   1|TRANSFER| 184986.8| C697508322|      39588.0|           0.0|C1688019098|       52340.0|      97263.78|      0|             0|\n",
      "|   1|CASH_OUT|467177.03|C1338905451|     28112.02|           0.0|C1170794006|      975121.0|      22190.99|      0|             0|\n",
      "|   1|CASH_OUT| 71532.24|C2082351661|      2101.19|           0.0|C1810132623|       74956.0|      97128.19|      0|             0|\n",
      "|   1|TRANSFER|   2806.0|C1420196421|       2806.0|           0.0| C972765878|           0.0|           0.0|      1|             0|\n",
      "|   1|CASH_OUT|   2806.0|C2101527076|       2806.0|           0.0|C1007251739|       26202.0|           0.0|      1|             0|\n",
      "|   1|CASH_OUT|280877.92|C1544614339|      2188.97|           0.0|C1297685781|     462914.23|      16997.22|      0|             0|\n",
      "|   1|TRANSFER|157883.07| C973936431|      46547.0|           0.0|C1335050193|       72793.0|     353532.56|      0|             0|\n",
      "+----+--------+---------+-----------+-------------+--------------+-----------+--------------+--------------+-------+--------------+\n",
      "only showing top 20 rows\n",
      "\n"
     ]
    }
   ],
   "source": [
    "df = df.filter((df.type == \"TRANSFER\") | (df.type == \"CASH_OUT\"))\n",
    "df.show()"
   ]
  },
  {
   "cell_type": "code",
   "execution_count": 24,
   "metadata": {},
   "outputs": [
    {
     "data": {
      "text/plain": [
       "(788403, 11)"
      ]
     },
     "execution_count": 24,
     "metadata": {},
     "output_type": "execute_result"
    }
   ],
   "source": [
    "shape(df)"
   ]
  },
  {
   "cell_type": "code",
   "execution_count": 25,
   "metadata": {},
   "outputs": [
    {
     "name": "stdout",
     "output_type": "stream",
     "text": [
      "+--------+---------+-----+\n",
      "|    type|Not_Fraud|Fraud|\n",
      "+--------+---------+-----+\n",
      "|TRANSFER|    68261| 1133|\n",
      "|CASH_OUT|   718075|  934|\n",
      "+--------+---------+-----+\n",
      "\n"
     ]
    }
   ],
   "source": [
    "count_type(df)"
   ]
  },
  {
   "cell_type": "code",
   "execution_count": 26,
   "metadata": {},
   "outputs": [],
   "source": [
    "df = df.select('type', 'amount','oldbalanceOrg','newbalanceOrig','isFraud')"
   ]
  },
  {
   "cell_type": "code",
   "execution_count": 27,
   "metadata": {},
   "outputs": [
    {
     "name": "stdout",
     "output_type": "stream",
     "text": [
      "+--------+---------+-------------+--------------+-------+\n",
      "|    type|   amount|oldbalanceOrg|newbalanceOrig|isFraud|\n",
      "+--------+---------+-------------+--------------+-------+\n",
      "|CASH_OUT|229133.94|      15325.0|           0.0|      0|\n",
      "|TRANSFER| 215310.3|        705.0|           0.0|      0|\n",
      "+--------+---------+-------------+--------------+-------+\n",
      "only showing top 2 rows\n",
      "\n"
     ]
    }
   ],
   "source": [
    "df_nf = df.filter(df['isFraud'] == 0)\n",
    "df_f = df.filter(df['isFraud'] == 1)\n",
    "nf_count = df_nf.count()\n",
    "f_count = df_f.count()\n",
    "ratio = nf_count / f_count\n",
    "df_overs = df_f.sample(withReplacement = True, fraction = ratio)\n",
    "df = df_nf.unionAll(df_overs)\n",
    "df.show(2)"
   ]
  },
  {
   "cell_type": "code",
   "execution_count": 28,
   "metadata": {},
   "outputs": [
    {
     "name": "stdout",
     "output_type": "stream",
     "text": [
      "+--------+---------+------+\n",
      "|    type|Not_Fraud| Fraud|\n",
      "+--------+---------+------+\n",
      "|TRANSFER|    68261|431353|\n",
      "|CASH_OUT|   718075|355757|\n",
      "+--------+---------+------+\n",
      "\n"
     ]
    }
   ],
   "source": [
    "count_type(df)"
   ]
  },
  {
   "cell_type": "code",
   "execution_count": 29,
   "metadata": {},
   "outputs": [
    {
     "data": {
      "text/plain": [
       "(['amount', 'oldbalanceOrg', 'newbalanceOrig'], ['type'])"
      ]
     },
     "execution_count": 29,
     "metadata": {},
     "output_type": "execute_result"
    }
   ],
   "source": [
    "catCols = [x for (x, dataType) in df.dtypes if dataType == \"string\"]\n",
    "numCols = [x for (x, dataType) in df.dtypes if dataType == \"double\"]\n",
    "numCols, catCols"
   ]
  },
  {
   "cell_type": "code",
   "execution_count": 30,
   "metadata": {},
   "outputs": [],
   "source": [
    "from pyspark.ml.feature import OneHotEncoder, StringIndexer, VectorAssembler"
   ]
  },
  {
   "cell_type": "code",
   "execution_count": 31,
   "metadata": {},
   "outputs": [],
   "source": [
    "stages = []\n",
    "for i in catCols:\n",
    "    indexer = StringIndexer(inputCol= i, outputCol= i + \"_Index\")\n",
    "    encoder = OneHotEncoder(inputCols= [indexer.getOutputCol()],\\\n",
    "                outputCols=[i + \"_classVec\"])\n",
    "    stages += [indexer, encoder]\n",
    "    assemblerInputs = [c + \"_classVec\" for c in catCols] + numCols  \n",
    "    assembler = VectorAssembler(inputCols=assemblerInputs, outputCol=\"features\")\n",
    "    stages += [assembler]"
   ]
  },
  {
   "cell_type": "code",
   "execution_count": 32,
   "metadata": {},
   "outputs": [],
   "source": [
    "from pyspark.ml import Pipeline"
   ]
  },
  {
   "cell_type": "code",
   "execution_count": 33,
   "metadata": {},
   "outputs": [
    {
     "name": "stdout",
     "output_type": "stream",
     "text": [
      "+--------------------+--------+---------+-------------+--------------+-------+----------+-------------+--------------------+\n",
      "|            features|    type|   amount|oldbalanceOrg|newbalanceOrig|isFraud|type_Index|type_classVec|            features|\n",
      "+--------------------+--------+---------+-------------+--------------+-------+----------+-------------+--------------------+\n",
      "|[1.0,229133.94,15...|CASH_OUT|229133.94|      15325.0|           0.0|      0|       0.0|(1,[0],[1.0])|[1.0,229133.94,15...|\n",
      "|[0.0,215310.3,705...|TRANSFER| 215310.3|        705.0|           0.0|      0|       1.0|    (1,[],[])|[0.0,215310.3,705...|\n",
      "|[1.0,110414.71,26...|CASH_OUT|110414.71|     26845.41|           0.0|      0|       0.0|(1,[0],[1.0])|[1.0,110414.71,26...|\n",
      "|[1.0,56953.9,1942...|CASH_OUT|  56953.9|      1942.02|           0.0|      0|       0.0|(1,[0],[1.0])|[1.0,56953.9,1942...|\n",
      "|[1.0,23261.3,2041...|CASH_OUT|  23261.3|     20411.53|           0.0|      0|       0.0|(1,[0],[1.0])|[1.0,23261.3,2041...|\n",
      "+--------------------+--------+---------+-------------+--------------+-------+----------+-------------+--------------------+\n",
      "only showing top 5 rows\n",
      "\n"
     ]
    }
   ],
   "source": [
    "pipeline = Pipeline(stages = stages)\n",
    "pipelineModel = pipeline.fit(df)\n",
    "df = pipelineModel.transform(df)\n",
    "selectedCols = ['features'] + df.columns\n",
    "df = df.select(selectedCols)\n",
    "df.show(5)"
   ]
  },
  {
   "cell_type": "code",
   "execution_count": 34,
   "metadata": {},
   "outputs": [],
   "source": [
    "from pyspark.ml.feature import StandardScaler"
   ]
  },
  {
   "cell_type": "code",
   "execution_count": 35,
   "metadata": {},
   "outputs": [
    {
     "name": "stdout",
     "output_type": "stream",
     "text": [
      "+--------------------+--------+---------+-------------+--------------+-------+----------+-------------+--------------------+--------------------+\n",
      "|            features|    type|   amount|oldbalanceOrg|newbalanceOrig|isFraud|type_Index|type_classVec|            features|      scaledFeatures|\n",
      "+--------------------+--------+---------+-------------+--------------+-------+----------+-------------+--------------------+--------------------+\n",
      "|[1.0,229133.94,15...|CASH_OUT|229133.94|      15325.0|           0.0|      0|       0.0|(1,[0],[1.0])|[1.0,229133.94,15...|[2.14815806388665...|\n",
      "|[0.0,215310.3,705...|TRANSFER| 215310.3|        705.0|           0.0|      0|       1.0|    (1,[],[])|[0.0,215310.3,705...|[0.0,2.1049897565...|\n",
      "|[1.0,110414.71,26...|CASH_OUT|110414.71|     26845.41|           0.0|      0|       0.0|(1,[0],[1.0])|[1.0,110414.71,26...|[2.14815806388665...|\n",
      "|[1.0,56953.9,1942...|CASH_OUT|  56953.9|      1942.02|           0.0|      0|       0.0|(1,[0],[1.0])|[1.0,56953.9,1942...|[2.14815806388665...|\n",
      "|[1.0,23261.3,2041...|CASH_OUT|  23261.3|     20411.53|           0.0|      0|       0.0|(1,[0],[1.0])|[1.0,23261.3,2041...|[2.14815806388665...|\n",
      "|[0.0,62610.8,7911...|TRANSFER|  62610.8|      79114.0|       16503.2|      0|       1.0|    (1,[],[])|[0.0,62610.8,7911...|[0.0,0.6121169895...|\n",
      "|[1.0,82940.31,301...|CASH_OUT| 82940.31|      3017.87|           0.0|      0|       0.0|(1,[0],[1.0])|[1.0,82940.31,301...|[2.14815806388665...|\n",
      "|[1.0,94253.33,252...|CASH_OUT| 94253.33|     25203.05|           0.0|      0|       0.0|(1,[0],[1.0])|[1.0,94253.33,252...|[2.14815806388665...|\n",
      "|[0.0,42712.39,103...|TRANSFER| 42712.39|     10363.39|           0.0|      0|       1.0|    (1,[],[])|[0.0,42712.39,103...|[0.0,0.4175793885...|\n",
      "|[1.0,335416.51,14...|CASH_OUT|335416.51|     144478.0|           0.0|      0|       0.0|(1,[0],[1.0])|[1.0,335416.51,14...|[2.14815806388665...|\n",
      "|[0.0,177652.91,23...|TRANSFER|177652.91|      23720.0|           0.0|      0|       1.0|    (1,[],[])|[0.0,177652.91,23...|[0.0,1.7368307775...|\n",
      "|[0.0,184986.8,395...|TRANSFER| 184986.8|      39588.0|           0.0|      0|       1.0|    (1,[],[])|[0.0,184986.8,395...|[0.0,1.8085308463...|\n",
      "|[1.0,467177.03,28...|CASH_OUT|467177.03|     28112.02|           0.0|      0|       0.0|(1,[0],[1.0])|[1.0,467177.03,28...|[2.14815806388665...|\n",
      "|[1.0,71532.24,210...|CASH_OUT| 71532.24|      2101.19|           0.0|      0|       0.0|(1,[0],[1.0])|[1.0,71532.24,210...|[2.14815806388665...|\n",
      "|[1.0,280877.92,21...|CASH_OUT|280877.92|      2188.97|           0.0|      0|       0.0|(1,[0],[1.0])|[1.0,280877.92,21...|[2.14815806388665...|\n",
      "|[0.0,157883.07,46...|TRANSFER|157883.07|      46547.0|           0.0|      0|       1.0|    (1,[],[])|[0.0,157883.07,46...|[0.0,1.5435501463...|\n",
      "|[1.0,102153.86,17...|CASH_OUT|102153.86|      1776.23|           0.0|      0|       0.0|(1,[0],[1.0])|[1.0,102153.86,17...|[2.14815806388665...|\n",
      "|[1.0,302693.14,18...|CASH_OUT|302693.14|     18454.54|           0.0|      0|       0.0|(1,[0],[1.0])|[1.0,302693.14,18...|[2.14815806388665...|\n",
      "|[1.0,410201.89,21...|CASH_OUT|410201.89|      21448.0|           0.0|      0|       0.0|(1,[0],[1.0])|[1.0,410201.89,21...|[2.14815806388665...|\n",
      "|[1.0,40684.97,107...|CASH_OUT| 40684.97|     10782.14|           0.0|      0|       0.0|(1,[0],[1.0])|[1.0,40684.97,107...|[2.14815806388665...|\n",
      "+--------------------+--------+---------+-------------+--------------+-------+----------+-------------+--------------------+--------------------+\n",
      "only showing top 20 rows\n",
      "\n"
     ]
    }
   ],
   "source": [
    "scaler = StandardScaler(inputCol=\"features\", outputCol=\"scaledFeatures\",\n",
    "                        withStd=True, withMean=False)\n",
    "\n",
    "\n",
    "scalerModel = scaler.fit(df)\n",
    "\n",
    "\n",
    "scaledData = scalerModel.transform(df)\n",
    "scaledData.show()"
   ]
  },
  {
   "cell_type": "code",
   "execution_count": 36,
   "metadata": {},
   "outputs": [
    {
     "name": "stdout",
     "output_type": "stream",
     "text": [
      "There are 1258652 training examples and 314794 test examples.\n"
     ]
    }
   ],
   "source": [
    "train , test = scaledData.randomSplit([0.8, 0.2])\n",
    "print(\"There are %d training examples and %d test examples.\" % (train.count(), test.count()))"
   ]
  },
  {
   "cell_type": "code",
   "execution_count": 37,
   "metadata": {},
   "outputs": [],
   "source": [
    "from pyspark.ml.classification import LogisticRegression, DecisionTreeClassifier, RandomForestClassifier, LinearSVC\n",
    "from pyspark.ml.evaluation import BinaryClassificationEvaluator, MulticlassClassificationEvaluator"
   ]
  },
  {
   "cell_type": "code",
   "execution_count": 38,
   "metadata": {},
   "outputs": [],
   "source": [
    "from pyspark.ml.evaluation import BinaryClassificationEvaluator, MulticlassClassificationEvaluator"
   ]
  },
  {
   "cell_type": "code",
   "execution_count": 39,
   "metadata": {},
   "outputs": [
    {
     "name": "stdout",
     "output_type": "stream",
     "text": [
      "Coefficients: [-0.024540749962310114,0.0,0.0,0.0]\n",
      "Intercept: 0.03799101834054362\n"
     ]
    }
   ],
   "source": [
    "\n",
    "lr = LogisticRegression(featuresCol=\"scaledFeatures\", labelCol=\"isFraud\", maxIter=10, regParam=0.3, elasticNetParam=0.8)\n",
    "lrModel = lr.fit(train)\n",
    "print(\"Coefficients: \" + str(lrModel.coefficients))\n",
    "print(\"Intercept: \" + str(lrModel.intercept))\n"
   ]
  },
  {
   "cell_type": "code",
   "execution_count": 40,
   "metadata": {},
   "outputs": [
    {
     "name": "stdout",
     "output_type": "stream",
     "text": [
      "+------------------+------------------+\n",
      "|               FPR|               TPR|\n",
      "+------------------+------------------+\n",
      "|               0.0|               0.0|\n",
      "|0.0871023054434169|0.5483311797779563|\n",
      "|               1.0|               1.0|\n",
      "|               1.0|               1.0|\n",
      "+------------------+------------------+\n",
      "\n",
      "areaUnderROC: 0.7306144371672697\n"
     ]
    }
   ],
   "source": [
    "trainingSummary = lrModel.summary\n",
    "trainingSummary.roc.show()\n",
    "print(\"areaUnderROC: \" + str(trainingSummary.areaUnderROC))"
   ]
  },
  {
   "cell_type": "code",
   "execution_count": 42,
   "metadata": {},
   "outputs": [
    {
     "name": "stdout",
     "output_type": "stream",
     "text": [
      "Test set areaUnderROC = 0.7305698384010598\n"
     ]
    }
   ],
   "source": [
    "prediction =  lrModel.transform(test)\n",
    "evaluator = BinaryClassificationEvaluator(labelCol=\"isFraud\", rawPredictionCol=\"prediction\",\n",
    "                                              metricName=\"areaUnderROC\")\n",
    "areaUnderROC = evaluator.evaluate(prediction)\n",
    "print(\"Test set areaUnderROC = \" + str(areaUnderROC))"
   ]
  },
  {
   "cell_type": "code",
   "execution_count": 43,
   "metadata": {},
   "outputs": [
    {
     "name": "stdout",
     "output_type": "stream",
     "text": [
      "False positive rate by label:\n",
      "label 0: 0.45166882022204374\n",
      "label 1: 0.0871023054434169\n",
      "True positive rate by label:\n",
      "label 0: 0.9128976945565831\n",
      "label 1: 0.5483311797779563\n",
      "Precision by label:\n",
      "label 0: 0.6685514326784412\n",
      "label 1: 0.8631649966266024\n",
      "Recall by label:\n",
      "label 0: 0.9128976945565831\n",
      "label 1: 0.5483311797779563\n",
      "F-measure by label:\n",
      "label 0: 0.771847859123638\n",
      "label 1: 0.670636291979079\n",
      "Accuracy: 0.7304290622030554\n",
      "FPR: 0.26920018786851596\n",
      "TPR: 0.7304290622030554\n",
      "F-measure: 0.7211906114429533\n",
      "Precision: 0.7659571718550899\n",
      "Recall: 0.7304290622030554\n"
     ]
    }
   ],
   "source": [
    "print(\"False positive rate by label:\")\n",
    "for i, rate in enumerate(trainingSummary.falsePositiveRateByLabel):\n",
    "    print(\"label %d: %s\" % (i, rate))\n",
    "\n",
    "print(\"True positive rate by label:\")\n",
    "for i, rate in enumerate(trainingSummary.truePositiveRateByLabel):\n",
    "    print(\"label %d: %s\" % (i, rate))\n",
    "\n",
    "print(\"Precision by label:\")\n",
    "for i, prec in enumerate(trainingSummary.precisionByLabel):\n",
    "    print(\"label %d: %s\" % (i, prec))\n",
    "\n",
    "print(\"Recall by label:\")\n",
    "for i, rec in enumerate(trainingSummary.recallByLabel):\n",
    "    print(\"label %d: %s\" % (i, rec))\n",
    "\n",
    "print(\"F-measure by label:\")\n",
    "for i, f in enumerate(trainingSummary.fMeasureByLabel()):\n",
    "    print(\"label %d: %s\" % (i, f))\n",
    "\n",
    "accuracy = trainingSummary.accuracy\n",
    "falsePositiveRate = trainingSummary.weightedFalsePositiveRate\n",
    "truePositiveRate = trainingSummary.weightedTruePositiveRate\n",
    "fMeasure = trainingSummary.weightedFMeasure()\n",
    "precision = trainingSummary.weightedPrecision\n",
    "recall = trainingSummary.weightedRecall\n",
    "print(\"Accuracy: %s\\nFPR: %s\\nTPR: %s\\nF-measure: %s\\nPrecision: %s\\nRecall: %s\"\n",
    "      % (accuracy, falsePositiveRate, truePositiveRate, fMeasure, precision, recall))"
   ]
  },
  {
   "cell_type": "code",
   "execution_count": 44,
   "metadata": {},
   "outputs": [
    {
     "name": "stdout",
     "output_type": "stream",
     "text": [
      "+----------+-------+--------------------+\n",
      "|prediction|isFraud|            features|\n",
      "+----------+-------+--------------------+\n",
      "|       1.0|      0|[0.0,158.78,10047...|\n",
      "|       1.0|      0|[0.0,159.55,7249....|\n",
      "|       1.0|      0|[0.0,1012.04,5033...|\n",
      "|       1.0|      0|[0.0,1648.67,232....|\n",
      "|       1.0|      0|[0.0,1663.71,1954...|\n",
      "+----------+-------+--------------------+\n",
      "only showing top 5 rows\n",
      "\n"
     ]
    }
   ],
   "source": [
    "prediction.select(\"prediction\", \"isFraud\", \"features\").show(5)"
   ]
  },
  {
   "cell_type": "code",
   "execution_count": 45,
   "metadata": {},
   "outputs": [
    {
     "name": "stdout",
     "output_type": "stream",
     "text": [
      "Accuracy =  0.730865264268061\n",
      "Test Error = 0.269135\n"
     ]
    }
   ],
   "source": [
    "evaluator = MulticlassClassificationEvaluator(\n",
    "    labelCol=\"isFraud\", predictionCol=\"prediction\", metricName=\"accuracy\")\n",
    "accuracy = evaluator.evaluate(prediction)\n",
    "print(\"Accuracy = \", accuracy)\n",
    "print(\"Test Error = %g\" % (1.0 - accuracy))"
   ]
  },
  {
   "cell_type": "code",
   "execution_count": 46,
   "metadata": {},
   "outputs": [],
   "source": [
    "\n",
    "def model_(model):\n",
    "    model_ = model.fit(train)\n",
    "    predictions = model_.transform(test)\n",
    "    evaluator = MulticlassClassificationEvaluator(\n",
    "    labelCol=\"isFraud\", predictionCol=\"prediction\", metricName=\"accuracy\")\n",
    "    accuracy = evaluator.evaluate(predictions)\n",
    "    \n",
    "    print(\"Accuracy = \", accuracy)\n",
    "    print(\"Test Error = %g\" % (1.0 - accuracy))\n",
    "  \n",
    "    metric_list= [\"truePositiveRateByLabel\",\"falsePositiveRateByLabel\",\"precisionByLabel\" ,\"recallByLabel\"]\n",
    "    for i in metric_list:\n",
    "        print(i+'_1 = ',evaluator.evaluate(predictions, {evaluator.metricName: i, evaluator.metricLabel: 1.0}))\n",
    "        print(i+'_0 = ',evaluator.evaluate(predictions, {evaluator.metricName: i, evaluator.metricLabel: 0.0}))\n",
    "     \n",
    "    print(predictions.select(\"prediction\", \"isFraud\", \"features\").show(5))"
   ]
  },
  {
   "cell_type": "code",
   "execution_count": 47,
   "metadata": {},
   "outputs": [
    {
     "name": "stdout",
     "output_type": "stream",
     "text": [
      "Accuracy =  0.9031588912113954\n",
      "Test Error = 0.0968411\n",
      "truePositiveRateByLabel_1 =  0.9123606373771828\n",
      "truePositiveRateByLabel_0 =  0.8939866793529971\n",
      "falsePositiveRateByLabel_1 =  0.10601332064700285\n",
      "falsePositiveRateByLabel_0 =  0.08763936262281728\n",
      "precisionByLabel_1 =  0.8955992129181373\n",
      "precisionByLabel_0 =  0.9109812615943481\n",
      "recallByLabel_1 =  0.9123606373771828\n",
      "recallByLabel_0 =  0.8939866793529971\n",
      "+----------+-------+--------------------+\n",
      "|prediction|isFraud|            features|\n",
      "+----------+-------+--------------------+\n",
      "|       0.0|      0|[0.0,158.78,10047...|\n",
      "|       0.0|      0|[0.0,159.55,7249....|\n",
      "|       0.0|      0|[0.0,1012.04,5033...|\n",
      "|       1.0|      0|[0.0,1648.67,232....|\n",
      "|       0.0|      0|[0.0,1663.71,1954...|\n",
      "+----------+-------+--------------------+\n",
      "only showing top 5 rows\n",
      "\n",
      "None\n"
     ]
    }
   ],
   "source": [
    "dt = DecisionTreeClassifier(labelCol=\"isFraud\", featuresCol=\"scaledFeatures\")\n",
    "model_(dt)\n"
   ]
  },
  {
   "cell_type": "code",
   "execution_count": 48,
   "metadata": {},
   "outputs": [
    {
     "name": "stdout",
     "output_type": "stream",
     "text": [
      "Accuracy =  0.9521401297356367\n",
      "Test Error = 0.0478599\n",
      "truePositiveRateByLabel_1 =  0.9851982894669857\n",
      "truePositiveRateByLabel_0 =  0.9191880748493498\n",
      "falsePositiveRateByLabel_1 =  0.08081192515065018\n",
      "falsePositiveRateByLabel_0 =  0.014801710533014305\n",
      "precisionByLabel_1 =  0.9239666264815766\n",
      "precisionByLabel_0 =  0.9842022331495015\n",
      "recallByLabel_1 =  0.9851982894669857\n",
      "recallByLabel_0 =  0.9191880748493498\n",
      "+----------+-------+--------------------+\n",
      "|prediction|isFraud|            features|\n",
      "+----------+-------+--------------------+\n",
      "|       0.0|      0|[0.0,158.78,10047...|\n",
      "|       0.0|      0|[0.0,159.55,7249....|\n",
      "|       0.0|      0|[0.0,1012.04,5033...|\n",
      "|       1.0|      0|[0.0,1648.67,232....|\n",
      "|       0.0|      0|[0.0,1663.71,1954...|\n",
      "+----------+-------+--------------------+\n",
      "only showing top 5 rows\n",
      "\n",
      "None\n"
     ]
    }
   ],
   "source": [
    "rf = RandomForestClassifier(labelCol=\"isFraud\", featuresCol=\"scaledFeatures\", numTrees=10)\n",
    "model_(rf)"
   ]
  },
  {
   "cell_type": "code",
   "execution_count": 49,
   "metadata": {},
   "outputs": [
    {
     "name": "stdout",
     "output_type": "stream",
     "text": [
      "Accuracy =  0.9348176902990527\n",
      "Test Error = 0.0651823\n",
      "truePositiveRateByLabel_1 =  0.9995609122842743\n",
      "truePositiveRateByLabel_0 =  0.8702822708531557\n",
      "falsePositiveRateByLabel_1 =  0.12971772914684426\n",
      "falsePositiveRateByLabel_0 =  0.0004390877157257038\n",
      "precisionByLabel_1 =  0.8848049570483031\n",
      "precisionByLabel_0 =  0.9994973373449213\n",
      "recallByLabel_1 =  0.9995609122842743\n",
      "recallByLabel_0 =  0.8702822708531557\n",
      "+----------+-------+--------------------+\n",
      "|prediction|isFraud|            features|\n",
      "+----------+-------+--------------------+\n",
      "|       0.0|      0|[0.0,158.78,10047...|\n",
      "|       0.0|      0|[0.0,159.55,7249....|\n",
      "|       1.0|      0|[0.0,1012.04,5033...|\n",
      "|       1.0|      0|[0.0,1648.67,232....|\n",
      "|       0.0|      0|[0.0,1663.71,1954...|\n",
      "+----------+-------+--------------------+\n",
      "only showing top 5 rows\n",
      "\n",
      "None\n"
     ]
    }
   ],
   "source": [
    "lsvc = LinearSVC(featuresCol=\"scaledFeatures\", labelCol=\"isFraud\",maxIter=10, regParam=0.1)\n",
    "model_(lsvc)"
   ]
  },
  {
   "cell_type": "code",
   "execution_count": null,
   "metadata": {},
   "outputs": [],
   "source": []
  }
 ],
 "metadata": {
  "kernelspec": {
   "display_name": "Python 3",
   "language": "python",
   "name": "python3"
  },
  "language_info": {
   "codemirror_mode": {
    "name": "ipython",
    "version": 3
   },
   "file_extension": ".py",
   "mimetype": "text/x-python",
   "name": "python",
   "nbconvert_exporter": "python",
   "pygments_lexer": "ipython3",
   "version": "3.7.6"
  }
 },
 "nbformat": 4,
 "nbformat_minor": 4
}
